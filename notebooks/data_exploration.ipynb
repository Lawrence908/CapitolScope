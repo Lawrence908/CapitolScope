{
 "cells": [
  {
   "cell_type": "markdown",
   "metadata": {},
   "source": [
    "# **CapitolScope** : *data exploration*"
   ]
  },
  {
   "cell_type": "markdown",
   "metadata": {},
   "source": []
  },
  {
   "cell_type": "code",
   "execution_count": 6,
   "metadata": {},
   "outputs": [],
   "source": [
    "import os\n",
    "import sys\n",
    "import re\n",
    "\n",
    "import pandas as pd\n",
    "from datetime import datetime\n",
    "\n",
    "from IPython.display import display\n",
    "\n",
    "# Set display options to show all rows and columns\n",
    "pd.set_option('display.max_rows', None)\n",
    "pd.set_option('display.max_columns', None)\n",
    "\n",
    "sys.path.append('/home/chris/github/CapitolScope')\n",
    "\n",
    "\n",
    "# # Check if path is in sys path before adding it\n",
    "# project_path = os.getcwd().removesuffix('/notebooks')\n",
    "# if project_path not in sys.path:\n",
    "#     sys.path.append(project_path)\n",
    "    \n",
    "\n",
    "\n",
    "from src.ingestion.fetch_congress_data import CongressTrades\n",
    "from src.ingestion.fetch_stock_data import get_tickers, get_tickers_company_dict\n",
    "from src.ingestion.fetch_stock_data import fetch_time_series, fetch_all_stock_data, fetch_all_stock_data_yf\n",
    "from src.ingestion.fetch_stock_data import StockDataFetcher\n",
    "\n",
    "\n",
    "tickers = get_tickers()"
   ]
  },
  {
   "cell_type": "markdown",
   "metadata": {},
   "source": []
  },
  {
   "cell_type": "code",
   "execution_count": 7,
   "metadata": {},
   "outputs": [],
   "source": [
    "interval = \"1d\"\n",
    "start = datetime.now() - pd.Timedelta(days=365)\n",
    "end = datetime.now()\n",
    "\n",
    "stonks = StockDataFetcher(interval, start, end)"
   ]
  },
  {
   "cell_type": "code",
   "execution_count": null,
   "metadata": {},
   "outputs": [],
   "source": [
    "intc = stonks.fetch_stock_data(\"INTC\")\n",
    "display(intc)"
   ]
  },
  {
   "cell_type": "code",
   "execution_count": null,
   "metadata": {},
   "outputs": [],
   "source": []
  }
 ],
 "metadata": {
  "kernelspec": {
   "display_name": ".venv",
   "language": "python",
   "name": "python3"
  },
  "language_info": {
   "codemirror_mode": {
    "name": "ipython",
    "version": 3
   },
   "file_extension": ".py",
   "mimetype": "text/x-python",
   "name": "python",
   "nbconvert_exporter": "python",
   "pygments_lexer": "ipython3",
   "version": "3.12.3"
  }
 },
 "nbformat": 4,
 "nbformat_minor": 2
}
