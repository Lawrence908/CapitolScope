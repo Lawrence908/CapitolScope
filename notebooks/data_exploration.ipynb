{
 "cells": [
  {
   "cell_type": "code",
   "execution_count": 1,
   "metadata": {},
   "outputs": [],
   "source": [
    "import os\n",
    "import sys"
   ]
  },
  {
   "cell_type": "code",
   "execution_count": 2,
   "metadata": {},
   "outputs": [
    {
     "data": {
      "text/plain": [
       "['/usr/lib/python312.zip',\n",
       " '/usr/lib/python3.12',\n",
       " '/usr/lib/python3.12/lib-dynload',\n",
       " '',\n",
       " '/home/chris/github/CapitolScope/.venv/lib/python3.12/site-packages',\n",
       " '/home/chris/github/CapitolScope']"
      ]
     },
     "execution_count": 2,
     "metadata": {},
     "output_type": "execute_result"
    }
   ],
   "source": [
    "# Check if path is in sys path before adding it\n",
    "path = '/home/chris/github/CapitolScope'\n",
    "if path not in sys.path:\n",
    "    sys.path.append(path)\n",
    "sys.path"
   ]
  },
  {
   "cell_type": "code",
   "execution_count": 3,
   "metadata": {},
   "outputs": [],
   "source": [
    "from src.ingestion.fetch_stock_data import fetch_time_series\n"
   ]
  },
  {
   "cell_type": "code",
   "execution_count": 4,
   "metadata": {},
   "outputs": [
    {
     "name": "stdout",
     "output_type": "stream",
     "text": [
      "         date    open    high     low   close       volume\n",
      "99 2024-07-18  121.85  122.40  116.56  121.09  320979530.0\n",
      "98 2024-07-19  120.35  121.60  117.37  117.93  217223800.0\n",
      "97 2024-07-22  120.35  124.07  119.86  123.54  258068943.0\n",
      "96 2024-07-23  122.78  124.69  122.10  122.59  173910983.0\n",
      "95 2024-07-24  119.17  119.95  113.44  114.25  327776884.0\n"
     ]
    }
   ],
   "source": [
    "symbol = \"NVDA\"\n",
    "df = fetch_time_series(symbol, interval=\"daily\", output_size=\"compact\")\n",
    "print(df.head())"
   ]
  }
 ],
 "metadata": {
  "kernelspec": {
   "display_name": ".venv",
   "language": "python",
   "name": "python3"
  },
  "language_info": {
   "codemirror_mode": {
    "name": "ipython",
    "version": 3
   },
   "file_extension": ".py",
   "mimetype": "text/x-python",
   "name": "python",
   "nbconvert_exporter": "python",
   "pygments_lexer": "ipython3",
   "version": "3.12.3"
  }
 },
 "nbformat": 4,
 "nbformat_minor": 2
}
