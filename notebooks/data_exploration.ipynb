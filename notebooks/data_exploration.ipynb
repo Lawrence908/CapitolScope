{
 "cells": [
  {
   "cell_type": "code",
   "execution_count": null,
   "metadata": {},
   "outputs": [],
   "source": [
    "import os\n",
    "import sys\n",
    "import re"
   ]
  },
  {
   "cell_type": "code",
   "execution_count": 4,
   "metadata": {},
   "outputs": [
    {
     "data": {
      "text/plain": [
       "['/usr/lib/python312.zip',\n",
       " '/usr/lib/python3.12',\n",
       " '/usr/lib/python3.12/lib-dynload',\n",
       " '',\n",
       " '/home/chris/github/CapitolScope/.venv/lib/python3.12/site-packages',\n",
       " '/home/chris/github/CapitolScope']"
      ]
     },
     "execution_count": 4,
     "metadata": {},
     "output_type": "execute_result"
    }
   ],
   "source": [
    "sys.path"
   ]
  },
  {
   "cell_type": "code",
   "execution_count": 3,
   "metadata": {},
   "outputs": [],
   "source": [
    "# Check if path is in sys path before adding it\n",
    "preoject_path = os.getcwd().removesuffix('/notebooks')\n",
    "if preoject_path not in sys.path:\n",
    "    sys.path.append(preoject_path)"
   ]
  },
  {
   "cell_type": "code",
   "execution_count": 5,
   "metadata": {},
   "outputs": [],
   "source": [
    "from src.ingestion.fetch_stock_data import fetch_time_series"
   ]
  },
  {
   "cell_type": "code",
   "execution_count": 6,
   "metadata": {},
   "outputs": [
    {
     "name": "stdout",
     "output_type": "stream",
     "text": [
      "         date    open    high       low   close       volume\n",
      "99 2024-07-26  116.19  116.20  111.5800  113.06  293399073.0\n",
      "98 2024-07-29  113.69  116.28  111.3000  111.59  248152068.0\n",
      "97 2024-07-30  111.52  111.99  102.5400  103.73  486833274.0\n",
      "96 2024-07-31  112.90  118.34  110.8800  117.02  473174182.0\n",
      "95 2024-08-01  117.53  120.16  106.8104  109.21  523462326.0\n"
     ]
    }
   ],
   "source": [
    "symbol = \"NVDA\"\n",
    "df = fetch_time_series(symbol, interval=\"daily\", output_size=\"compact\")\n",
    "print(df.head())"
   ]
  },
  {
   "cell_type": "code",
   "execution_count": 7,
   "metadata": {},
   "outputs": [
    {
     "name": "stdout",
     "output_type": "stream",
     "text": [
      "        date    open    high     low   close       volume\n",
      "4 2024-12-10  139.01  141.82  133.79  135.07  210020888.0\n",
      "3 2024-12-11  137.36  140.17  135.21  139.31  184905192.0\n",
      "2 2024-12-12  137.08  138.44  135.80  137.34  159211393.0\n",
      "1 2024-12-13  138.94  139.60  132.54  134.25  231514881.0\n",
      "0 2024-12-16  134.18  134.40  130.42  132.00  231624137.0\n"
     ]
    }
   ],
   "source": [
    "print(df.tail())"
   ]
  }
 ],
 "metadata": {
  "kernelspec": {
   "display_name": ".venv",
   "language": "python",
   "name": "python3"
  },
  "language_info": {
   "codemirror_mode": {
    "name": "ipython",
    "version": 3
   },
   "file_extension": ".py",
   "mimetype": "text/x-python",
   "name": "python",
   "nbconvert_exporter": "python",
   "pygments_lexer": "ipython3",
   "version": "3.12.3"
  }
 },
 "nbformat": 4,
 "nbformat_minor": 2
}
