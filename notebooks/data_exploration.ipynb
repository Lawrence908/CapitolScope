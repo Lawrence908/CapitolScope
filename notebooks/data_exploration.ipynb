{
 "cells": [
  {
   "cell_type": "code",
   "execution_count": 17,
   "metadata": {},
   "outputs": [],
   "source": [
    "import os\n",
    "import sys\n",
    "import re\n",
    "\n",
    "import pandas as pd\n",
    "from datetime import datetime\n",
    "\n",
    "from IPython.display import display\n",
    "\n",
    "# Set display options to show all rows and columns\n",
    "pd.set_option('display.max_rows', None)\n",
    "pd.set_option('display.max_columns', None)\n",
    "\n",
    "# Check if path is in sys path before adding it\n",
    "preoject_path = os.getcwd().removesuffix('/notebooks')\n",
    "if preoject_path not in sys.path:\n",
    "    sys.path.append(preoject_path)\n",
    "\n",
    "\n",
    "from src.ingestion.fetch_congress_data import CongressTrades\n",
    "from src.ingestion.fetch_stock_data import get_tickers, fetch_time_series"
   ]
  },
  {
   "cell_type": "code",
   "execution_count": 2,
   "metadata": {},
   "outputs": [
    {
     "data": {
      "text/plain": [
       "503"
      ]
     },
     "execution_count": 2,
     "metadata": {},
     "output_type": "execute_result"
    }
   ],
   "source": [
    "tickers = get_tickers()\n",
    "len(tickers)"
   ]
  },
  {
   "cell_type": "code",
   "execution_count": null,
   "metadata": {},
   "outputs": [],
   "source": []
  },
  {
   "cell_type": "code",
   "execution_count": null,
   "metadata": {},
   "outputs": [],
   "source": [
    "current_year = datetime.now().year\n",
    "for year in range(2014, current_year):\n",
    "    print(f'Fetching data for {year}')\n",
    "    ct = CongressTrades(year)\n"
   ]
  },
  {
   "cell_type": "code",
   "execution_count": 19,
   "metadata": {},
   "outputs": [
    {
     "data": {
      "text/html": [
       "<div>\n",
       "<style scoped>\n",
       "    .dataframe tbody tr th:only-of-type {\n",
       "        vertical-align: middle;\n",
       "    }\n",
       "\n",
       "    .dataframe tbody tr th {\n",
       "        vertical-align: top;\n",
       "    }\n",
       "\n",
       "    .dataframe thead th {\n",
       "        text-align: right;\n",
       "    }\n",
       "</style>\n",
       "<table border=\"1\" class=\"dataframe\">\n",
       "  <thead>\n",
       "    <tr style=\"text-align: right;\">\n",
       "      <th></th>\n",
       "      <th>Member</th>\n",
       "      <th>DocID</th>\n",
       "      <th>Owner</th>\n",
       "      <th>Asset</th>\n",
       "      <th>Ticker</th>\n",
       "      <th>Transaction Type</th>\n",
       "      <th>Transaction Date</th>\n",
       "      <th>Notification Date</th>\n",
       "      <th>Amount</th>\n",
       "      <th>Filing Status</th>\n",
       "      <th>Description</th>\n",
       "    </tr>\n",
       "  </thead>\n",
       "  <tbody>\n",
       "    <tr>\n",
       "      <th>0</th>\n",
       "      <td>Allen</td>\n",
       "      <td>20017164</td>\n",
       "      <td>SP</td>\n",
       "      <td>Starbucks Corporation</td>\n",
       "      <td>Not in S&amp;P 500</td>\n",
       "      <td>07/06/2020</td>\n",
       "      <td>$1,001</td>\n",
       "      <td>-</td>\n",
       "      <td>$15,000</td>\n",
       "      <td>New</td>\n",
       "      <td></td>\n",
       "    </tr>\n",
       "    <tr>\n",
       "      <th>1</th>\n",
       "      <td>Amash</td>\n",
       "      <td>20016417</td>\n",
       "      <td>DC</td>\n",
       "      <td>Walt Disney Company</td>\n",
       "      <td>DIS</td>\n",
       "      <td>03/18/2020</td>\n",
       "      <td>03/18/2020</td>\n",
       "      <td>$15,001</td>\n",
       "      <td>-</td>\n",
       "      <td>New</td>\n",
       "      <td></td>\n",
       "    </tr>\n",
       "    <tr>\n",
       "      <th>2</th>\n",
       "      <td>Amash</td>\n",
       "      <td>20016417</td>\n",
       "      <td>DC</td>\n",
       "      <td>Walt Disney Company</td>\n",
       "      <td>DIS</td>\n",
       "      <td>03/18/2020</td>\n",
       "      <td>$1,001</td>\n",
       "      <td>-</td>\n",
       "      <td>$15,000</td>\n",
       "      <td>New</td>\n",
       "      <td></td>\n",
       "    </tr>\n",
       "    <tr>\n",
       "      <th>3</th>\n",
       "      <td>Amash</td>\n",
       "      <td>20016417</td>\n",
       "      <td>DC</td>\n",
       "      <td>Walt Disney Company</td>\n",
       "      <td>DIS</td>\n",
       "      <td>03/18/2020</td>\n",
       "      <td>$1,001</td>\n",
       "      <td>-</td>\n",
       "      <td>$15,000</td>\n",
       "      <td>New</td>\n",
       "      <td></td>\n",
       "    </tr>\n",
       "    <tr>\n",
       "      <th>4</th>\n",
       "      <td>Banks</td>\n",
       "      <td>20016981</td>\n",
       "      <td>JT</td>\n",
       "      <td>Starbucks Corporation</td>\n",
       "      <td>Not in S&amp;P 500</td>\n",
       "      <td>07/01/2020</td>\n",
       "      <td>$1,001</td>\n",
       "      <td>-</td>\n",
       "      <td>$15,000</td>\n",
       "      <td>New</td>\n",
       "      <td></td>\n",
       "    </tr>\n",
       "    <tr>\n",
       "      <th>5</th>\n",
       "      <td>Banks</td>\n",
       "      <td>20016981</td>\n",
       "      <td>JT</td>\n",
       "      <td>Starbucks Corporation</td>\n",
       "      <td>Not in S&amp;P 500</td>\n",
       "      <td>07/01/2020</td>\n",
       "      <td>$1,001</td>\n",
       "      <td>-</td>\n",
       "      <td>$15,000</td>\n",
       "      <td>New</td>\n",
       "      <td></td>\n",
       "    </tr>\n",
       "    <tr>\n",
       "      <th>6</th>\n",
       "      <td>Banks</td>\n",
       "      <td>20016981</td>\n",
       "      <td>JT</td>\n",
       "      <td>Starbucks Corporation</td>\n",
       "      <td>Not in S&amp;P 500</td>\n",
       "      <td>07/01/2020</td>\n",
       "      <td>$1,001</td>\n",
       "      <td>-</td>\n",
       "      <td>$15,000</td>\n",
       "      <td>New</td>\n",
       "      <td></td>\n",
       "    </tr>\n",
       "    <tr>\n",
       "      <th>7</th>\n",
       "      <td>Banks</td>\n",
       "      <td>20016981</td>\n",
       "      <td>JT</td>\n",
       "      <td>Starbucks Corporation</td>\n",
       "      <td>Not in S&amp;P 500</td>\n",
       "      <td>07/01/2020</td>\n",
       "      <td>$1,001</td>\n",
       "      <td>-</td>\n",
       "      <td>$15,000</td>\n",
       "      <td>New</td>\n",
       "      <td></td>\n",
       "    </tr>\n",
       "  </tbody>\n",
       "</table>\n",
       "</div>"
      ],
      "text/plain": [
       "  Member     DocID Owner                   Asset          Ticker  \\\n",
       "0  Allen  20017164    SP  Starbucks Corporation   Not in S&P 500   \n",
       "1  Amash  20016417    DC    Walt Disney Company              DIS   \n",
       "2  Amash  20016417    DC    Walt Disney Company              DIS   \n",
       "3  Amash  20016417    DC    Walt Disney Company              DIS   \n",
       "4  Banks  20016981    JT  Starbucks Corporation   Not in S&P 500   \n",
       "5  Banks  20016981    JT  Starbucks Corporation   Not in S&P 500   \n",
       "6  Banks  20016981    JT  Starbucks Corporation   Not in S&P 500   \n",
       "7  Banks  20016981    JT  Starbucks Corporation   Not in S&P 500   \n",
       "\n",
       "  Transaction Type Transaction Date Notification Date   Amount Filing Status  \\\n",
       "0       07/06/2020           $1,001                 -  $15,000           New   \n",
       "1       03/18/2020       03/18/2020           $15,001        -           New   \n",
       "2       03/18/2020           $1,001                 -  $15,000           New   \n",
       "3       03/18/2020           $1,001                 -  $15,000           New   \n",
       "4       07/01/2020           $1,001                 -  $15,000           New   \n",
       "5       07/01/2020           $1,001                 -  $15,000           New   \n",
       "6       07/01/2020           $1,001                 -  $15,000           New   \n",
       "7       07/01/2020           $1,001                 -  $15,000           New   \n",
       "\n",
       "  Description  \n",
       "0              \n",
       "1              \n",
       "2              \n",
       "3              \n",
       "4              \n",
       "5              \n",
       "6              \n",
       "7              "
      ]
     },
     "execution_count": 19,
     "metadata": {},
     "output_type": "execute_result"
    }
   ],
   "source": [
    "ct.trades"
   ]
  },
  {
   "cell_type": "code",
   "execution_count": null,
   "metadata": {},
   "outputs": [],
   "source": [
    "\n",
    "# Reset the index\n",
    "trades_by_member_df.reset_index(drop=True, inplace=True)"
   ]
  },
  {
   "cell_type": "code",
   "execution_count": null,
   "metadata": {},
   "outputs": [],
   "source": [
    "bad_docs = [\n",
    "    \"20025620\", \n",
    "    \"20024317\", \n",
    "    \"20025568\", \n",
    "    \"20025705\", \n",
    "    \"20025768\", \n",
    "    \"20026238\", \n",
    "    \"20024230\", \n",
    "    \"20025711\", \n",
    "    \"20024248\", \n",
    "    \"20024461\", \n",
    "    \"20024801\", \n",
    "    \"20025419\", \n",
    "    \"20025678\",\n",
    "    \"20024300\",\n",
    "    \"20025281\",\n",
    "    \"20026023\",\n",
    "    \"20024231\",\n",
    "    \"20024436\",\n",
    "    \"20024604\",\n",
    "    \"20024982\",\n",
    "    \"20025112\",\n",
    "    \"20025373\",\n",
    "    \"20025679\",\n",
    "    \"20025770\",\n",
    "    \"20025959\",\n",
    "    \"20026143\",\n",
    "    \"20024286\",\n",
    "    \"20026415\",\n",
    "    \"20026346\",\n",
    "    \"20025107\",\n",
    "    \"20025360\",\n",
    "\n",
    "    ]"
   ]
  },
  {
   "cell_type": "code",
   "execution_count": null,
   "metadata": {},
   "outputs": [],
   "source": [
    "for bad_doc in bad_docs[0]:\n",
    "    try:\n",
    "        pdf_df = ct.download_and_parse_pdf(bad_doc)\n",
    "        display(pdf_df)\n",
    "    except Exception as e:\n",
    "        print(f\"Failed to download PDF for {bad_doc}: {e}\")"
   ]
  },
  {
   "cell_type": "code",
   "execution_count": 6,
   "metadata": {},
   "outputs": [
    {
     "name": "stdout",
     "output_type": "stream",
     "text": [
      "         date    open    high       low   close       volume\n",
      "99 2024-07-26  116.19  116.20  111.5800  113.06  293399073.0\n",
      "98 2024-07-29  113.69  116.28  111.3000  111.59  248152068.0\n",
      "97 2024-07-30  111.52  111.99  102.5400  103.73  486833274.0\n",
      "96 2024-07-31  112.90  118.34  110.8800  117.02  473174182.0\n",
      "95 2024-08-01  117.53  120.16  106.8104  109.21  523462326.0\n"
     ]
    }
   ],
   "source": [
    "symbol = \"NVDA\"\n",
    "df = fetch_time_series(symbol, interval=\"daily\", output_size=\"compact\")\n",
    "print(df.head())"
   ]
  },
  {
   "cell_type": "code",
   "execution_count": 7,
   "metadata": {},
   "outputs": [
    {
     "name": "stdout",
     "output_type": "stream",
     "text": [
      "        date    open    high     low   close       volume\n",
      "4 2024-12-10  139.01  141.82  133.79  135.07  210020888.0\n",
      "3 2024-12-11  137.36  140.17  135.21  139.31  184905192.0\n",
      "2 2024-12-12  137.08  138.44  135.80  137.34  159211393.0\n",
      "1 2024-12-13  138.94  139.60  132.54  134.25  231514881.0\n",
      "0 2024-12-16  134.18  134.40  130.42  132.00  231624137.0\n"
     ]
    }
   ],
   "source": [
    "print(df.tail())"
   ]
  }
 ],
 "metadata": {
  "kernelspec": {
   "display_name": ".venv",
   "language": "python",
   "name": "python3"
  },
  "language_info": {
   "codemirror_mode": {
    "name": "ipython",
    "version": 3
   },
   "file_extension": ".py",
   "mimetype": "text/x-python",
   "name": "python",
   "nbconvert_exporter": "python",
   "pygments_lexer": "ipython3",
   "version": "3.12.3"
  }
 },
 "nbformat": 4,
 "nbformat_minor": 2
}
